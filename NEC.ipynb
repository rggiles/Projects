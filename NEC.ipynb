{
 "cells": [
  {
   "cell_type": "markdown",
   "metadata": {},
   "source": [
    "### Near Earch Comet Project\n",
    "##### 1. min orbital intersection distance to earth\n",
    "##### 2. min orbital period\n",
    "##### 3. avg eccentricity\n",
    "##### 4. mean orbit to sun \n",
    "##### 5. max inclination"
   ]
  },
  {
   "cell_type": "code",
   "execution_count": 4,
   "metadata": {},
   "outputs": [
    {
     "data": {
      "text/plain": [
       "OrderedDict([('Object', '5D/Brorsen'),\n",
       "             ('Epoch (TDB)', '7440'),\n",
       "             ('TP (TDB)', '2407439.534'),\n",
       "             ('e', '0.809796'),\n",
       "             ('i (deg)', '29.3821'),\n",
       "             ('w (deg)', '14.9468'),\n",
       "             ('Node (deg)', '102.9676'),\n",
       "             ('q (AU)', '0.589847'),\n",
       "             ('Q (AU)', '5.61'),\n",
       "             ('P (yr)', '5.46'),\n",
       "             ('MOID (AU)', '0.366559'),\n",
       "             ('A1 (AU/d^2)', '0.0000000127'),\n",
       "             ('A2 (AU/d^2)', '0.00000000134'),\n",
       "             ('A3 (AU/d^2)', ''),\n",
       "             ('DT (d)', ''),\n",
       "             ('ref', 'IAUCAT03'),\n",
       "             ('Object_name', '5D/Brorsen')])"
      ]
     },
     "execution_count": 4,
     "metadata": {},
     "output_type": "execute_result"
    }
   ],
   "source": [
    "import pandas as pd\n",
    "import numpy as np\n",
    "import unicodecsv\n",
    "import matplotlib.pyplot as plt\n",
    "from sklearn import linear_model\n",
    "from sklearn.metrics import mean_squared_error, r2_score\n",
    "\n",
    "def convert_int(integer):\n",
    "    if integer == '':\n",
    "        return None\n",
    "    else:\n",
    "        return int(integer)\n",
    "\n",
    "def convert_flt(flt):\n",
    "    if flt == '' or flt == None:\n",
    "        return None\n",
    "    else:\n",
    "        return float(flt)\n",
    "\n",
    "nec = []\n",
    "with open('Near-Earth_Comets_-_Orbital_Elements.csv', 'rb') as c:\n",
    "    reader = unicodecsv.DictReader(c)\n",
    "    nec = list(reader)\n",
    "\n",
    "nec[3]"
   ]
  },
  {
   "cell_type": "code",
   "execution_count": 18,
   "metadata": {},
   "outputs": [
    {
     "data": {
      "text/plain": [
       "OrderedDict([('Object', '5D/Brorsen'),\n",
       "             ('Epoch (TDB)', 7440),\n",
       "             ('TP (TDB)', 2407439.534),\n",
       "             ('e', 0.809796),\n",
       "             ('i (deg)', 29.3821),\n",
       "             ('w (deg)', 14.9468),\n",
       "             ('Node (deg)', 102.9676),\n",
       "             ('q (AU)', 0.589847),\n",
       "             ('Q (AU)', 5.61),\n",
       "             ('P (yr)', 5.46),\n",
       "             ('MOID (AU)', 0.366559),\n",
       "             ('A1 (AU/d^2)', 1.27e-08),\n",
       "             ('A2 (AU/d^2)', 1.34e-09),\n",
       "             ('A3 (AU/d^2)', None),\n",
       "             ('DT (d)', None),\n",
       "             ('ref', 'IAUCAT03'),\n",
       "             ('Object_name', '5D/Brorsen')])"
      ]
     },
     "execution_count": 18,
     "metadata": {},
     "output_type": "execute_result"
    }
   ],
   "source": [
    "for e in nec:\n",
    "    e['Epoch (TDB)'] = int(float(e['Epoch (TDB)']))\n",
    "    e['TP (TDB)'] = float(e['TP (TDB)'])\n",
    "    e['e'] = convert_flt(e['e'])\n",
    "    e['i (deg)'] = float(e['i (deg)'])\n",
    "    e['w (deg)'] = float(e['w (deg)'])\n",
    "    e['Node (deg)'] = float(e['Node (deg)'])\n",
    "    e['q (AU)'] = float(e['q (AU)'])\n",
    "    e['Q (AU)'] = float(e['Q (AU)'])\n",
    "    e['P (yr)'] = float(e['P (yr)'])\n",
    "    e['MOID (AU)'] = float(e['MOID (AU)'])\n",
    "    e['A1 (AU/d^2)'] = convert_flt(e['A1 (AU/d^2)'])\n",
    "    e['A2 (AU/d^2)'] = convert_flt(e['A2 (AU/d^2)'])\n",
    "    e['A3 (AU/d^2)'] = convert_flt(e['A3 (AU/d^2)'])\n",
    "    e['DT (d)'] = convert_flt(e['DT (d)'])\n",
    "    \n",
    "nec[3]"
   ]
  },
  {
   "cell_type": "code",
   "execution_count": 19,
   "metadata": {},
   "outputs": [
    {
     "name": "stdout",
     "output_type": "stream",
     "text": [
      "0.92\n",
      "9.49\n",
      "5.2\n"
     ]
    },
    {
     "data": {
      "text/plain": [
       "0.75"
      ]
     },
     "execution_count": 19,
     "metadata": {},
     "output_type": "execute_result"
    }
   ],
   "source": [
    "# number of near earth comets\n",
    "def num_objects(sample):\n",
    "    sample = np.array(sample)\n",
    "    return sample.size\n",
    "\n",
    "num_objects(nec)\n",
    "\n",
    "# min orbital intersection distance to earth\n",
    "def min_moid(sample, column): \n",
    "    l_1 = []\n",
    "\n",
    "    for i in sample:\n",
    "        o = i[column]\n",
    "        l_1.append(o)\n",
    "    \n",
    "    distance = min(l_1)\n",
    "\n",
    "    return distance\n",
    "\n",
    "min_moid(nec,'MOID (AU)')\n",
    "\n",
    "# orbit period\n",
    "def min_P(sample, column): \n",
    "    l_1 = []\n",
    "    for i in sample:\n",
    "        o = i[column]\n",
    "        l_1.append(o)\n",
    "    time = min(l_1)\n",
    "    return time\n",
    "\n",
    "min_P(nec,'P (yr)')\n",
    "\n",
    "def calc_sum_objects(sample):\n",
    "    total = 0\n",
    "    for i in sample:\n",
    "        num = i['e']\n",
    "        total += num\n",
    "    return round(total,2)\n",
    "calc_sum_objects(nec)\n",
    "\n",
    "def calc_sum_objects_q(sample):\n",
    "    total = 0\n",
    "    for i in sample:\n",
    "        num = i['q (AU)']\n",
    "        total += num\n",
    "    return round(total,2)\n",
    "calc_sum_objects_q(nec)\n",
    "\n",
    "def calc_sum_objects_Q(sample):\n",
    "    total = 0\n",
    "    for i in sample:\n",
    "        num = i['Q (AU)']\n",
    "        total += num\n",
    "    return round(total,2)\n",
    "calc_sum_objects_Q(nec)\n",
    "\n",
    "# peri avg / aph avg\n",
    "def peri_avg(sample):\n",
    "    total = calc_sum_objects_q(nec)\n",
    "    size = num_objects(nec)\n",
    "    average = total / size\n",
    "    return round(average,2)\n",
    "\n",
    "print(peri_avg(nec[8]))\n",
    "\n",
    "def aph_avg(sample):\n",
    "    total = calc_sum_objects_Q(nec)\n",
    "    size = num_objects(nec)\n",
    "    average = total / size\n",
    "    return round(average,2)\n",
    "\n",
    "print(aph_avg(nec[9])) \n",
    "\n",
    "# mean distance from sun\n",
    "def peri_aph_mean(sample):\n",
    "    total = calc_sum_objects_q(nec) + calc_sum_objects_Q(nec)\n",
    "    size = num_objects(nec)\n",
    "    average = total / (size * 2)\n",
    "    return round(average,2)\n",
    "\n",
    "print(peri_aph_mean(nec))  \n",
    "\n",
    "\n",
    "# avg eccentricity\n",
    "def avg_1(sample):\n",
    "    total = calc_sum_objects(nec)\n",
    "    size = num_objects(nec)\n",
    "    average = total / size\n",
    "    return round(average,2)\n",
    "\n",
    "avg_1(nec[4])"
   ]
  },
  {
   "cell_type": "code",
   "execution_count": 6,
   "metadata": {
    "scrolled": true
   },
   "outputs": [
    {
     "data": {
      "text/html": [
       "<div>\n",
       "<style scoped>\n",
       "    .dataframe tbody tr th:only-of-type {\n",
       "        vertical-align: middle;\n",
       "    }\n",
       "\n",
       "    .dataframe tbody tr th {\n",
       "        vertical-align: top;\n",
       "    }\n",
       "\n",
       "    .dataframe thead th {\n",
       "        text-align: right;\n",
       "    }\n",
       "</style>\n",
       "<table border=\"1\" class=\"dataframe\">\n",
       "  <thead>\n",
       "    <tr style=\"text-align: right;\">\n",
       "      <th></th>\n",
       "      <th>Epoch (TDB)</th>\n",
       "      <th>TP (TDB)</th>\n",
       "      <th>e</th>\n",
       "      <th>i (deg)</th>\n",
       "      <th>w (deg)</th>\n",
       "      <th>Node (deg)</th>\n",
       "      <th>q (AU)</th>\n",
       "      <th>Q (AU)</th>\n",
       "      <th>P (yr)</th>\n",
       "      <th>MOID (AU)</th>\n",
       "      <th>A1 (AU/d^2)</th>\n",
       "      <th>A2 (AU/d^2)</th>\n",
       "      <th>A3 (AU/d^2)</th>\n",
       "      <th>DT (d)</th>\n",
       "    </tr>\n",
       "  </thead>\n",
       "  <tbody>\n",
       "    <tr>\n",
       "      <th>count</th>\n",
       "      <td>160.000000</td>\n",
       "      <td>1.600000e+02</td>\n",
       "      <td>160.000000</td>\n",
       "      <td>160.000000</td>\n",
       "      <td>160.000000</td>\n",
       "      <td>160.000000</td>\n",
       "      <td>160.000000</td>\n",
       "      <td>160.000000</td>\n",
       "      <td>160.000000</td>\n",
       "      <td>160.000000</td>\n",
       "      <td>3.800000e+01</td>\n",
       "      <td>4.100000e+01</td>\n",
       "      <td>1.000000e+01</td>\n",
       "      <td>4.00000</td>\n",
       "    </tr>\n",
       "    <tr>\n",
       "      <th>mean</th>\n",
       "      <td>52547.825000</td>\n",
       "      <td>2.452495e+06</td>\n",
       "      <td>0.748886</td>\n",
       "      <td>24.561972</td>\n",
       "      <td>176.693851</td>\n",
       "      <td>127.052444</td>\n",
       "      <td>0.917272</td>\n",
       "      <td>9.486625</td>\n",
       "      <td>15.525125</td>\n",
       "      <td>0.119765</td>\n",
       "      <td>4.631589e-08</td>\n",
       "      <td>9.713200e-11</td>\n",
       "      <td>2.770700e-10</td>\n",
       "      <td>20.56750</td>\n",
       "    </tr>\n",
       "    <tr>\n",
       "      <th>std</th>\n",
       "      <td>8225.459908</td>\n",
       "      <td>8.241278e+03</td>\n",
       "      <td>0.110730</td>\n",
       "      <td>33.988129</td>\n",
       "      <td>87.793130</td>\n",
       "      <td>97.461286</td>\n",
       "      <td>0.277686</td>\n",
       "      <td>10.817059</td>\n",
       "      <td>29.039862</td>\n",
       "      <td>0.119806</td>\n",
       "      <td>2.105691e-07</td>\n",
       "      <td>1.894444e-09</td>\n",
       "      <td>9.240339e-10</td>\n",
       "      <td>74.62686</td>\n",
       "    </tr>\n",
       "    <tr>\n",
       "      <th>min</th>\n",
       "      <td>-9480.000000</td>\n",
       "      <td>2.390514e+06</td>\n",
       "      <td>0.586980</td>\n",
       "      <td>3.145619</td>\n",
       "      <td>0.626838</td>\n",
       "      <td>1.415670</td>\n",
       "      <td>0.028321</td>\n",
       "      <td>4.090000</td>\n",
       "      <td>3.300000</td>\n",
       "      <td>0.000518</td>\n",
       "      <td>-3.650000e-08</td>\n",
       "      <td>-5.480000e-09</td>\n",
       "      <td>-9.570000e-10</td>\n",
       "      <td>-32.80000</td>\n",
       "    </tr>\n",
       "    <tr>\n",
       "      <th>25%</th>\n",
       "      <td>53819.500000</td>\n",
       "      <td>2.453893e+06</td>\n",
       "      <td>0.685054</td>\n",
       "      <td>11.313526</td>\n",
       "      <td>148.616866</td>\n",
       "      <td>69.831755</td>\n",
       "      <td>0.937098</td>\n",
       "      <td>5.110000</td>\n",
       "      <td>5.277500</td>\n",
       "      <td>0.040486</td>\n",
       "      <td>7.665000e-11</td>\n",
       "      <td>-2.710000e-10</td>\n",
       "      <td>-3.825000e-10</td>\n",
       "      <td>-17.35000</td>\n",
       "    </tr>\n",
       "    <tr>\n",
       "      <th>50%</th>\n",
       "      <td>53839.000000</td>\n",
       "      <td>2.453895e+06</td>\n",
       "      <td>0.694792</td>\n",
       "      <td>11.421423</td>\n",
       "      <td>198.736029</td>\n",
       "      <td>70.077436</td>\n",
       "      <td>0.939366</td>\n",
       "      <td>5.240000</td>\n",
       "      <td>5.420000</td>\n",
       "      <td>0.045015</td>\n",
       "      <td>1.340000e-09</td>\n",
       "      <td>-9.380000e-13</td>\n",
       "      <td>1.338500e-10</td>\n",
       "      <td>-7.96500</td>\n",
       "    </tr>\n",
       "    <tr>\n",
       "      <th>75%</th>\n",
       "      <td>55173.500000</td>\n",
       "      <td>2.455078e+06</td>\n",
       "      <td>0.815589</td>\n",
       "      <td>19.111926</td>\n",
       "      <td>199.010217</td>\n",
       "      <td>207.739213</td>\n",
       "      <td>1.054545</td>\n",
       "      <td>6.237500</td>\n",
       "      <td>6.725000</td>\n",
       "      <td>0.175737</td>\n",
       "      <td>7.215000e-09</td>\n",
       "      <td>1.720000e-10</td>\n",
       "      <td>6.485000e-10</td>\n",
       "      <td>29.95250</td>\n",
       "    </tr>\n",
       "    <tr>\n",
       "      <th>max</th>\n",
       "      <td>57124.000000</td>\n",
       "      <td>2.457876e+06</td>\n",
       "      <td>0.994268</td>\n",
       "      <td>172.513745</td>\n",
       "      <td>358.551572</td>\n",
       "      <td>359.396114</td>\n",
       "      <td>1.297735</td>\n",
       "      <td>64.270000</td>\n",
       "      <td>185.640000</td>\n",
       "      <td>0.515916</td>\n",
       "      <td>1.250000e-06</td>\n",
       "      <td>5.860000e-09</td>\n",
       "      <td>2.080000e-09</td>\n",
       "      <td>131.00000</td>\n",
       "    </tr>\n",
       "  </tbody>\n",
       "</table>\n",
       "</div>"
      ],
      "text/plain": [
       "        Epoch (TDB)      TP (TDB)           e     i (deg)     w (deg)  \\\n",
       "count    160.000000  1.600000e+02  160.000000  160.000000  160.000000   \n",
       "mean   52547.825000  2.452495e+06    0.748886   24.561972  176.693851   \n",
       "std     8225.459908  8.241278e+03    0.110730   33.988129   87.793130   \n",
       "min    -9480.000000  2.390514e+06    0.586980    3.145619    0.626838   \n",
       "25%    53819.500000  2.453893e+06    0.685054   11.313526  148.616866   \n",
       "50%    53839.000000  2.453895e+06    0.694792   11.421423  198.736029   \n",
       "75%    55173.500000  2.455078e+06    0.815589   19.111926  199.010217   \n",
       "max    57124.000000  2.457876e+06    0.994268  172.513745  358.551572   \n",
       "\n",
       "       Node (deg)      q (AU)      Q (AU)      P (yr)   MOID (AU)  \\\n",
       "count  160.000000  160.000000  160.000000  160.000000  160.000000   \n",
       "mean   127.052444    0.917272    9.486625   15.525125    0.119765   \n",
       "std     97.461286    0.277686   10.817059   29.039862    0.119806   \n",
       "min      1.415670    0.028321    4.090000    3.300000    0.000518   \n",
       "25%     69.831755    0.937098    5.110000    5.277500    0.040486   \n",
       "50%     70.077436    0.939366    5.240000    5.420000    0.045015   \n",
       "75%    207.739213    1.054545    6.237500    6.725000    0.175737   \n",
       "max    359.396114    1.297735   64.270000  185.640000    0.515916   \n",
       "\n",
       "        A1 (AU/d^2)   A2 (AU/d^2)   A3 (AU/d^2)     DT (d)  \n",
       "count  3.800000e+01  4.100000e+01  1.000000e+01    4.00000  \n",
       "mean   4.631589e-08  9.713200e-11  2.770700e-10   20.56750  \n",
       "std    2.105691e-07  1.894444e-09  9.240339e-10   74.62686  \n",
       "min   -3.650000e-08 -5.480000e-09 -9.570000e-10  -32.80000  \n",
       "25%    7.665000e-11 -2.710000e-10 -3.825000e-10  -17.35000  \n",
       "50%    1.340000e-09 -9.380000e-13  1.338500e-10   -7.96500  \n",
       "75%    7.215000e-09  1.720000e-10  6.485000e-10   29.95250  \n",
       "max    1.250000e-06  5.860000e-09  2.080000e-09  131.00000  "
      ]
     },
     "execution_count": 6,
     "metadata": {},
     "output_type": "execute_result"
    }
   ],
   "source": [
    "c = pd.read_csv('Near-Earth_Comets_-_Orbital_Elements.csv')\n",
    "c.describe()"
   ]
  },
  {
   "cell_type": "markdown",
   "metadata": {},
   "source": [
    "#### Linear Regression"
   ]
  },
  {
   "cell_type": "code",
   "execution_count": 7,
   "metadata": {
    "scrolled": true
   },
   "outputs": [
    {
     "data": {
      "image/png": "[encoded data removed]",
      "text/plain": [
       "<matplotlib.figure.Figure at 0x1a0a5a1fd0>"
      ]
     },
     "metadata": {},
     "output_type": "display_data"
    }
   ],
   "source": [
    "# Predict eccentricity in relation to orbital period\n",
    "# 0: circular, 0-1: elliptic, 1: parabolic escape orbit\n",
    "\n",
    "df = pd.read_csv('Near-Earth_Comets_-_Orbital_Elements.csv')\n",
    "x = df[\"e\"].values # eccentricity \n",
    "y = df[\"P (yr)\"].values # orbital period\n",
    "\n",
    "# print(x.values)\n",
    "# We split data into training and testing so that we can test if our model\n",
    "# is correct on data it hasn't seen in training\n",
    "x_train = x[:-30] \n",
    "x_test = x[-30:] \n",
    "\n",
    "y_train = y[:-30]\n",
    "y_test = y[-30:]\n",
    "\n",
    "# Initializes model class\n",
    "regr = linear_model.LinearRegression()\n",
    "\n",
    "# Creates trained model\n",
    "# x+train.reshape(-1,1) == [x.train]\n",
    "regr.fit(x_train.reshape(-1,1), y_train.reshape(-1,1))\n",
    "\n",
    "# Predicts new y values test x values\n",
    "y_hat = regr.predict(x_test.reshape(-1,1))\n",
    "\n",
    "# Plot actual test data\n",
    "plt.scatter(x_test, y_test, color=\"skyblue\")\n",
    "# Plot predicted y_hat values\n",
    "\n",
    "plt.plot(x_test, y_hat, color=\"yellow\", linewidth=5)\n",
    "\n",
    "plt.show()"
   ]
  },
  {
   "cell_type": "markdown",
   "metadata": {},
   "source": [
    "#### Sampling"
   ]
  },
  {
   "cell_type": "code",
   "execution_count": 8,
   "metadata": {},
   "outputs": [
    {
     "data": {
      "text/plain": [
       "count    160.000000\n",
       "mean       0.748886\n",
       "std        0.110730\n",
       "min        0.586980\n",
       "25%        0.685054\n",
       "50%        0.694792\n",
       "75%        0.815589\n",
       "max        0.994268\n",
       "Name: e, dtype: float64"
      ]
     },
     "execution_count": 8,
     "metadata": {},
     "output_type": "execute_result"
    }
   ],
   "source": [
    "c.describe()['e']"
   ]
  },
  {
   "cell_type": "code",
   "execution_count": 9,
   "metadata": {},
   "outputs": [
    {
     "data": {
      "image/png": "[encoded data removed]",
      "text/plain": [
       "<matplotlib.figure.Figure at 0x1a0a5f1390>"
      ]
     },
     "metadata": {},
     "output_type": "display_data"
    }
   ],
   "source": [
    "total = c['e'].values\n",
    "plt.hist(total, bins = np.arange(0,1,step=.05))\n",
    "plt.show()\n",
    "#print(total.values)"
   ]
  },
  {
   "cell_type": "code",
   "execution_count": 10,
   "metadata": {},
   "outputs": [
    {
     "data": {
      "image/png": "[encoded data removed]",
      "text/plain": [
       "<matplotlib.figure.Figure at 0x10306c240>"
      ]
     },
     "metadata": {},
     "output_type": "display_data"
    }
   ],
   "source": [
    "sample1 = np.random.choice(x, size=20, replace = False)\n",
    "plt.hist(sample1, bins = np.arange(0,1,step=.05))\n",
    "plt.show()"
   ]
  },
  {
   "cell_type": "code",
   "execution_count": 11,
   "metadata": {},
   "outputs": [
    {
     "name": "stdout",
     "output_type": "stream",
     "text": [
      "count    20.000000\n",
      "mean      0.775372\n",
      "std       0.130289\n",
      "min       0.620930\n",
      "25%       0.692433\n",
      "50%       0.704146\n",
      "75%       0.879900\n",
      "max       0.982268\n",
      "dtype: float64\n"
     ]
    },
    {
     "data": {
      "image/png": "[encoded data removed]",
      "text/plain": [
       "<matplotlib.figure.Figure at 0x1a13665a20>"
      ]
     },
     "metadata": {},
     "output_type": "display_data"
    }
   ],
   "source": [
    "pd_samp = pd.Series(sample1)\n",
    "print(pd_samp.describe())\n",
    "plt.boxplot(sample1, vert= False)\n",
    "plt.show()"
   ]
  },
  {
   "cell_type": "code",
   "execution_count": 12,
   "metadata": {},
   "outputs": [
    {
     "name": "stdout",
     "output_type": "stream",
     "text": [
      "count    160.000000\n",
      "mean       0.748886\n",
      "std        0.110730\n",
      "min        0.586980\n",
      "25%        0.685054\n",
      "50%        0.694792\n",
      "75%        0.815589\n",
      "max        0.994268\n",
      "dtype: float64\n"
     ]
    },
    {
     "data": {
      "image/png": "[encoded data removed]",
      "text/plain": [
       "<matplotlib.figure.Figure at 0x1a137823c8>"
      ]
     },
     "metadata": {},
     "output_type": "display_data"
    }
   ],
   "source": [
    "pd_total = pd.Series(total)\n",
    "print(pd_total.describe())\n",
    "plt.boxplot(total, vert= False)\n",
    "plt.show()"
   ]
  },
  {
   "cell_type": "code",
   "execution_count": null,
   "metadata": {},
   "outputs": [],
   "source": []
  }
 ],
 "metadata": {
  "kernelspec": {
   "display_name": "Python 3",
   "language": "python",
   "name": "python3"
  },
  "language_info": {
   "codemirror_mode": {
    "name": "ipython",
    "version": 3
   },
   "file_extension": ".py",
   "mimetype": "text/x-python",
   "name": "python",
   "nbconvert_exporter": "python",
   "pygments_lexer": "ipython3",
   "version": "3.6.4"
  }
 },
 "nbformat": 4,
 "nbformat_minor": 2
}
