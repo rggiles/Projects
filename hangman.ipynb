{
 "cells": [
  {
   "cell_type": "code",
   "execution_count": null,
   "metadata": {},
   "outputs": [],
   "source": []
  },
  {
   "cell_type": "code",
   "execution_count": null,
   "metadata": {},
   "outputs": [
    {
     "name": "stdout",
     "output_type": "stream",
     "text": [
      "Lives: 5\n",
      "Past Guesses: u\n",
      "E _ _ _ a o _ _ i _ a _ _\n"
     ]
    }
   ],
   "source": [
    "from random import randint\n",
    "from IPython.display import clear_output\n",
    "word_list = ['hippopotamus',\n",
    "'Apples',\n",
    "'Oranges',\n",
    "'Computer',\n",
    "'Telescope',\n",
    "'Democracy',\n",
    "'Restrooms',\n",
    "'Freedom',\n",
    "'Bandaid',\n",
    "'Extraordinary',\n",
    "'Specialist',\n",
    "'Restaurant',\n",
    "'Economical']\n",
    "def word_select():\n",
    "        return word_list[randint(0,len(word_list)-1)]\n",
    "\n",
    "def guess_check(word, status, lives,wrong):\n",
    "    guess = input(\"Guess a letter: \")\n",
    "    while len(guess)>1:\n",
    "        guess = input(\"Guess ONE letter: \").lower()\n",
    "    if guess in word.lower():\n",
    "        print(f\"Great guess! {guess} is in the word\")\n",
    "        for i in range(len(word)):\n",
    "            if word[i].lower() == guess:\n",
    "                status[i] = word[i]\n",
    "    else:\n",
    "        lives -= 1\n",
    "        print(f\"{guess} was not in the word.\")\n",
    "        wrong.append(guess)\n",
    "#     print_status(status,lives,wrong)\n",
    "    return word, status, lives, wrong\n",
    "\n",
    "def print_status(status,lives,wrong):\n",
    "    clear_output()\n",
    "    print(f\"Lives: {lives}\")\n",
    "    print(f\"Past Guesses: \", end=\"\")\n",
    "    print(\" \".join(wrong))\n",
    "    print(\" \".join(status))\n",
    "\n",
    "def game_function():\n",
    "    word = word_select()\n",
    "    lives = 6\n",
    "    wrong = []\n",
    "    status = list(\"_\"*len(word))\n",
    "    while lives != 0:\n",
    "        print_status(status,lives,wrong)\n",
    "        word, status, lives, wrong = guess_check(word, status, lives, wrong)\n",
    "        if \"_\" not in status:\n",
    "            print(\"You guessed the word\")\n",
    "            print(f\"The correct word was {word}\")\n",
    "            return\n",
    "    print(f\"Game Over! The correct word was {word}\")\n",
    "\n",
    "def main():\n",
    "    while True:\n",
    "        game_function()\n",
    "        cont = input(\"Would you like to play again? y/n \").lower()\n",
    "        if cont != \"y\":\n",
    "            print(\"Thanks for playing\")\n",
    "            break\n",
    "        \n",
    "        \n",
    "        \n",
    "        \n",
    "main()"
   ]
  },
  {
   "cell_type": "code",
   "execution_count": null,
   "metadata": {},
   "outputs": [],
   "source": []
  }
 ],
 "metadata": {
  "kernelspec": {
   "display_name": "Python 3",
   "language": "python",
   "name": "python3"
  },
  "language_info": {
   "codemirror_mode": {
    "name": "ipython",
    "version": 3
   },
   "file_extension": ".py",
   "mimetype": "text/x-python",
   "name": "python",
   "nbconvert_exporter": "python",
   "pygments_lexer": "ipython3",
   "version": "3.6.4"
  }
 },
 "nbformat": 4,
 "nbformat_minor": 2
}
